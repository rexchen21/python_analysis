{
 "cells": [
  {
   "cell_type": "code",
   "execution_count": 16,
   "metadata": {},
   "outputs": [
    {
     "name": "stdout",
     "output_type": "stream",
     "text": [
      "YouBike即時資訊下載完成！\n"
     ]
    }
   ],
   "source": [
    "import requests\n",
    "\n",
    "url = 'https://tcgbusfs.blob.core.windows.net/dotapp/youbike/v2/youbike_immediate.json'\n",
    "\n",
    "try:\n",
    "    response = requests.get(url)\n",
    "    response.raise_for_status()  # 檢查HTTP狀態碼，確保請求成功\n",
    "\n",
    "    data = response.json()  # 將JSON格式的資料轉換為Python字典\n",
    "\n",
    "    # 在這裡你可以對data做任何處理，例如儲存到檔案或分析資料\n",
    "    # 以下是一個簡單的範例，將資料儲存到youbike_data.json檔案中\n",
    "    with open('youbike_data.json', 'w', encoding='utf-8') as f:\n",
    "        import json\n",
    "        json.dump(data, f, ensure_ascii=False, indent=4)\n",
    "\n",
    "    print('YouBike即時資訊下載完成！')\n",
    "\n",
    "except requests.exceptions.RequestException as e:\n",
    "    print(f'下載YouBike即時資訊時發生錯誤：{e}')\n",
    "except json.JSONDecodeError as e:\n",
    "    print(f'解析JSON資料時發生錯誤：{e}')"
   ]
  },
  {
   "cell_type": "code",
   "execution_count": 4,
   "metadata": {},
   "outputs": [
    {
     "data": {
      "text/plain": [
       "str"
      ]
     },
     "execution_count": 4,
     "metadata": {},
     "output_type": "execute_result"
    }
   ],
   "source": [
    "import requests\n",
    "from requests import Response\n",
    "\n",
    "url = 'https://tcgbusfs.blob.core.windows.net/dotapp/youbike/v2/youbike_immediate.json'\n",
    "response:Response = requests.get(url=url)\n",
    "type(response.text)\n"
   ]
  },
  {
   "cell_type": "code",
   "execution_count": null,
   "metadata": {},
   "outputs": [
    {
     "name": "stdout",
     "output_type": "stream",
     "text": [
      "{'sno': '500119009', 'sna': 'YouBike2.0_臺大水源舍區B棟', 'sarea': '臺大公館校區', 'mday': '2025-02-09 15:02:15', 'ar': '汀洲路三段60巷2弄路側(B舍北側)', 'sareaen': 'NTU Dist', 'snaen': 'YouBike2.0_NTU ShuiYuan Dorms(B)', 'aren': 'Aly. 2， Ln. 60， Sec. 3， Tingzhou Rd. Dorms B(North)', 'act': '1', 'srcUpdateTime': '2025-02-09 15:03:24', 'updateTime': '2025-02-09 15:03:52', 'infoTime': '2025-02-09 15:02:15', 'infoDate': '2025-02-09', 'total': 30, 'available_rent_bikes': 10, 'latitude': 25.01525, 'longitude': 121.53009, 'available_return_bikes': 19}\n"
     ]
    }
   ],
   "source": [
    "\n",
    "sites:list = response.json()\n",
    "for item in sites:\n",
    "     if item['sna'] == 'YouBike2.0_臺大水源舍區B棟':\n",
    "        print(item)"
   ]
  },
  {
   "cell_type": "code",
   "execution_count": 21,
   "metadata": {},
   "outputs": [
    {
     "name": "stdout",
     "output_type": "stream",
     "text": [
      "error--division by zero\n"
     ]
    }
   ],
   "source": [
    "try:\n",
    "    5/0\n",
    "except Exception as a:\n",
    "    print(f'error--{a}')"
   ]
  },
  {
   "cell_type": "code",
   "execution_count": 22,
   "metadata": {},
   "outputs": [
    {
     "name": "stdout",
     "output_type": "stream",
     "text": [
      "{'sno': '500119009', 'sna': 'YouBike2.0_臺大水源舍區B棟', 'sarea': '臺大公館校區', 'mday': '2025-02-09 16:04:16', 'ar': '汀洲路三段60巷2弄路側(B舍北側)', 'sareaen': 'NTU Dist', 'snaen': 'YouBike2.0_NTU ShuiYuan Dorms(B)', 'aren': 'Aly. 2， Ln. 60， Sec. 3， Tingzhou Rd. Dorms B(North)', 'act': '1', 'srcUpdateTime': '2025-02-09 16:16:26', 'updateTime': '2025-02-09 16:16:52', 'infoTime': '2025-02-09 16:04:16', 'infoDate': '2025-02-09', 'total': 30, 'available_rent_bikes': 8, 'latitude': 25.01525, 'longitude': 121.53009, 'available_return_bikes': 21}\n"
     ]
    }
   ],
   "source": [
    "import requests\n",
    "from requests import Response\n",
    "try:\n",
    "    url = 'https://tcgbusfs.blob.core.windows.net/dotapp/youbike/v2/youbike_immediate.json'\n",
    "    response:Response = requests.get(url=url)\n",
    "    response.raise_for_status()    \n",
    "    sites:list = response.json()\n",
    "    for item in sites:\n",
    "        if item['sna'] == 'YouBike2.0_臺大水源舍區B棟':\n",
    "            print(item)\n",
    "        \n",
    "except Exception as e:\n",
    "    print(f'出錯了:{e}')"
   ]
  }
 ],
 "metadata": {
  "kernelspec": {
   "display_name": "base",
   "language": "python",
   "name": "python3"
  },
  "language_info": {
   "codemirror_mode": {
    "name": "ipython",
    "version": 3
   },
   "file_extension": ".py",
   "mimetype": "text/x-python",
   "name": "python",
   "nbconvert_exporter": "python",
   "pygments_lexer": "ipython3",
   "version": "3.12.7"
  }
 },
 "nbformat": 4,
 "nbformat_minor": 2
}
