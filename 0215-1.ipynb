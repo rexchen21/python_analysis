{
 "cells": [
  {
   "cell_type": "code",
   "execution_count": 1,
   "metadata": {},
   "outputs": [
    {
     "name": "stdout",
     "output_type": "stream",
     "text": [
      "YouBike即時資訊下載完成！\n"
     ]
    }
   ],
   "source": [
    "import requests\n",
    "\n",
    "url = 'https://tcgbusfs.blob.core.windows.net/dotapp/youbike/v2/youbike_immediate.json'\n",
    "\n",
    "try:\n",
    "    response = requests.get(url)\n",
    "    response.raise_for_status()  # 檢查HTTP狀態碼，確保請求成功\n",
    "\n",
    "    data = response.json()  # 將JSON格式的資料轉換為Python字典\n",
    "\n",
    "    print('YouBike即時資訊下載完成！')\n",
    "\n",
    "except requests.exceptions.RequestException as e:\n",
    "    print(f'下載YouBike即時資訊時發生錯誤：{e}')"
   ]
  },
  {
   "cell_type": "code",
   "execution_count": 3,
   "metadata": {},
   "outputs": [
    {
     "name": "stdout",
     "output_type": "stream",
     "text": [
      "{'sno': '500101004', 'sna': 'YouBike2.0_和平公園東側', 'sarea': '大安區', 'mday': '2025-02-15 09:53:15', 'ar': '和平東路二段118巷33號', 'sareaen': 'Daan Dist.', 'snaen': 'YouBike2.0_Heping Park (East)', 'aren': 'No. 33， Ln. 118， Sec. 2， Heping E. Rd', 'act': '1', 'srcUpdateTime': '2025-02-15 09:59:21', 'updateTime': '2025-02-15 09:59:52', 'infoTime': '2025-02-15 09:53:15', 'infoDate': '2025-02-15', 'total': 11, 'available_rent_bikes': 0, 'latitude': 25.02351, 'longitude': 121.54282, 'available_return_bikes': 11}\n",
      "{'sno': '500101007', 'sna': 'YouBike2.0_復興南路二段340巷口', 'sarea': '大安區', 'mday': '2025-02-15 09:56:16', 'ar': '復興南路二段342號', 'sareaen': 'Daan Dist.', 'snaen': 'YouBike2.0_Ln. 340， Sec. 2， Fuxing S. Rd.', 'aren': 'No. 342， Sec. 2， Fuxing S. Rd.', 'act': '1', 'srcUpdateTime': '2025-02-15 09:59:21', 'updateTime': '2025-02-15 09:59:52', 'infoTime': '2025-02-15 09:56:16', 'infoDate': '2025-02-15', 'total': 11, 'available_rent_bikes': 0, 'latitude': 25.02253, 'longitude': 121.54326, 'available_return_bikes': 11}\n",
      "{'sno': '500101020', 'sna': 'YouBike2.0_溫州停車場', 'sarea': '大安區', 'mday': '2024-11-01 03:48:14', 'ar': '新生南路三段54巷/溫州街口', 'sareaen': 'Daan Dist.', 'snaen': 'YouBike2.0_Wenzhou Parking Lot', 'aren': 'Ln. 54， Sec. 3， Xinsheng S. Rd. & Wenzhou St. Intersection', 'act': '0', 'srcUpdateTime': '2025-02-15 09:59:21', 'updateTime': '2025-02-15 09:59:52', 'infoTime': '2024-11-01 03:48:14', 'infoDate': '2024-11-01', 'total': 5, 'available_rent_bikes': 0, 'latitude': 25.02093, 'longitude': 121.5331, 'available_return_bikes': 5}\n",
      "{'sno': '500101107', 'sna': 'YouBike2.0_和平龍泉街口', 'sarea': '大安區', 'mday': '2025-02-15 09:35:18', 'ar': '和平東路一段/龍泉街口西南側', 'sareaen': 'Daan Dist.', 'snaen': 'YouBike2.0_Sec. 1， Heping E. Rd & Longquan St. Intersection', 'aren': 'Sec. 1， Heping E. Rd & Longquan St. Intersection (Southwest)', 'act': '1', 'srcUpdateTime': '2025-02-15 09:59:21', 'updateTime': '2025-02-15 09:59:52', 'infoTime': '2025-02-15 09:35:18', 'infoDate': '2025-02-15', 'total': 34, 'available_rent_bikes': 0, 'latitude': 25.02638, 'longitude': 121.52971, 'available_return_bikes': 34}\n",
      "{'sno': '500101111', 'sna': 'YouBike2.0_捷運古亭站(5號出口)', 'sarea': '大安區', 'mday': '2025-02-12 12:39:16', 'ar': '和平東路一段19號前', 'sareaen': 'Daan Dist.', 'snaen': 'YouBike2.0_MRT Guting Sta. (Exit 5)', 'aren': 'No. 19， Sec. 1， Heping E. Rd', 'act': '0', 'srcUpdateTime': '2025-02-15 09:59:21', 'updateTime': '2025-02-15 09:59:52', 'infoTime': '2025-02-12 12:39:16', 'infoDate': '2025-02-12', 'total': 14, 'available_rent_bikes': 0, 'latitude': 25.02715, 'longitude': 121.52293, 'available_return_bikes': 14}\n",
      "{'sno': '500101203', 'sna': 'YouBike2.0_臺北遠企購物中心', 'sarea': '大安區', 'mday': '2025-02-15 09:58:16', 'ar': '敦化南路二段201號前', 'sareaen': 'Daan Dist.', 'snaen': 'YouBike2.0_Chenggong Public House', 'aren': 'No. 201， Sec. 2， Dunhua S. Rd.', 'act': '1', 'srcUpdateTime': '2025-02-15 09:59:21', 'updateTime': '2025-02-15 09:59:52', 'infoTime': '2025-02-15 09:58:16', 'infoDate': '2025-02-15', 'total': 33, 'available_rent_bikes': 0, 'latitude': 25.02709, 'longitude': 121.54902, 'available_return_bikes': 32}\n",
      "{'sno': '500101213', 'sna': 'YouBike2.0_懷生國中', 'sarea': '大安區', 'mday': '2025-02-15 09:59:19', 'ar': '忠孝東路三段248巷30號', 'sareaen': 'Daan Dist.', 'snaen': 'YouBike2.0_Huai Sheng Junior High School', 'aren': 'No. 30， Ln. 248， Sec. 3， Zhongxiao E. Rd.', 'act': '1', 'srcUpdateTime': '2025-02-15 09:59:21', 'updateTime': '2025-02-15 09:59:52', 'infoTime': '2025-02-15 09:59:19', 'infoDate': '2025-02-15', 'total': 15, 'available_rent_bikes': 0, 'latitude': 25.0401, 'longitude': 121.54122, 'available_return_bikes': 15}\n",
      "{'sno': '500103019', 'sna': 'YouBike2.0_民權延平路口(西北側)', 'sarea': '大同區', 'mday': '2025-02-15 09:58:16', 'ar': '民權西路239號前方', 'sareaen': 'Datong Dist', 'snaen': 'YouBike2.0_Minquan Rd. & Yanping Rd. Intersection (Northwest)', 'aren': 'No. 239， Minquan W. Rd.', 'act': '1', 'srcUpdateTime': '2025-02-15 09:59:21', 'updateTime': '2025-02-15 09:59:52', 'infoTime': '2025-02-15 09:58:16', 'infoDate': '2025-02-15', 'total': 20, 'available_rent_bikes': 0, 'latitude': 25.06326, 'longitude': 121.51099, 'available_return_bikes': 20}\n",
      "{'sno': '500103048', 'sna': 'YouBike2.0_南京太原路口', 'sarea': '大同區', 'mday': '2025-02-15 09:54:16', 'ar': '南京西路/太原路(東側)', 'sareaen': 'Datong Dist', 'snaen': 'YouBike2.0_Nanjing Rd. & Taiyuan Rd. Intersection', 'aren': 'Nanjing W. Rd. & Taiyuan Rd. Intersection (East)', 'act': '1', 'srcUpdateTime': '2025-02-15 09:59:21', 'updateTime': '2025-02-15 09:59:52', 'infoTime': '2025-02-15 09:54:16', 'infoDate': '2025-02-15', 'total': 29, 'available_rent_bikes': 0, 'latitude': 25.05366, 'longitude': 121.51638, 'available_return_bikes': 29}\n",
      "{'sno': '500103061', 'sna': 'YouBike2.0_雙蓮國小', 'sarea': '大同區', 'mday': '2025-02-15 09:51:15', 'ar': '民權西路102巷4弄25號對側人行道', 'sareaen': 'Datong Dist', 'snaen': 'YouBike2.0_ShuangLian Elementary School', 'aren': 'No. 25， Aly. 4， Ln. 102， Minquan W. Rd. (Opposite)', 'act': '1', 'srcUpdateTime': '2025-02-15 09:59:21', 'updateTime': '2025-02-15 09:59:52', 'infoTime': '2025-02-15 09:51:15', 'infoDate': '2025-02-15', 'total': 20, 'available_rent_bikes': 0, 'latitude': 25.06157, 'longitude': 121.51683, 'available_return_bikes': 20}\n",
      "{'sno': '500103066', 'sna': 'YouBike2.0_南京西寧北路口(西北側)', 'sarea': '大同區', 'mday': '2025-02-15 09:47:16', 'ar': '南京西路/西寧北路(西北側)', 'sareaen': 'Datong Dist', 'snaen': 'YouBike2.0_NanJing W. Rd. & XiNing N. Rd. Intersection (Northwest)', 'aren': 'NanJing W. Rd. & XiNing N. Rd. Intersection (Northwest)', 'act': '1', 'srcUpdateTime': '2025-02-15 09:59:21', 'updateTime': '2025-02-15 09:59:52', 'infoTime': '2025-02-15 09:47:16', 'infoDate': '2025-02-15', 'total': 13, 'available_rent_bikes': 0, 'latitude': 25.05348, 'longitude': 121.50855, 'available_return_bikes': 13}\n",
      "{'sno': '500104001', 'sna': 'YouBike2.0_劍潭抽水站', 'sarea': '士林區', 'mday': '2024-11-14 20:28:16', 'ar': '通河東街325巷/通河東街口', 'sareaen': 'Shilin Dist', 'snaen': 'YouBike2.0_Jiantan Pumping Station', 'aren': 'Ln. 325， Tonghe St. Intersection', 'act': '0', 'srcUpdateTime': '2025-02-15 09:59:21', 'updateTime': '2025-02-15 09:59:52', 'infoTime': '2024-11-14 20:28:16', 'infoDate': '2024-11-14', 'total': 17, 'available_rent_bikes': 0, 'latitude': 25.08128, 'longitude': 121.51784, 'available_return_bikes': 17}\n",
      "{'sno': '500104042', 'sna': 'YouBike2.0_銘傳大學', 'sarea': '士林區', 'mday': '2025-02-15 09:58:16', 'ar': '中山北路五段250號(銘傳大學對側)', 'sareaen': 'Shilin Dist', 'snaen': 'YouBike2.0_Ming Chuan University Taipei Campus', 'aren': 'No. 250， Sec. 5， Zhongshan N. Rd.', 'act': '1', 'srcUpdateTime': '2025-02-15 09:59:21', 'updateTime': '2025-02-15 09:59:52', 'infoTime': '2025-02-15 09:58:16', 'infoDate': '2025-02-15', 'total': 26, 'available_rent_bikes': 0, 'latitude': 25.08771, 'longitude': 121.52677, 'available_return_bikes': 26}\n",
      "{'sno': '500104057', 'sna': 'YouBike2.0_社子國小', 'sarea': '士林區', 'mday': '2024-11-01 03:49:15', 'ar': '社中街476號(對面)', 'sareaen': 'Shilin Dist', 'snaen': 'YouBike2.0_Shezi Elementary School', 'aren': 'No. 476， Shezhong St. (Opposite)', 'act': '0', 'srcUpdateTime': '2025-02-15 09:59:21', 'updateTime': '2025-02-15 09:59:52', 'infoTime': '2024-11-01 03:49:15', 'infoDate': '2024-11-01', 'total': 15, 'available_rent_bikes': 0, 'latitude': 25.09058, 'longitude': 121.50142, 'available_return_bikes': 15}\n",
      "{'sno': '500104071', 'sna': 'YouBike2.0_聖山綠地', 'sarea': '士林區', 'mday': '2025-02-15 09:55:17', 'ar': '忠義街94號(旁)', 'sareaen': 'Shilin Dist', 'snaen': 'YouBike2.0_Shengshan Greens', 'aren': 'No. 94， Zhongyi St.', 'act': '1', 'srcUpdateTime': '2025-02-15 09:59:21', 'updateTime': '2025-02-15 09:59:52', 'infoTime': '2025-02-15 09:55:17', 'infoDate': '2025-02-15', 'total': 15, 'available_rent_bikes': 0, 'latitude': 25.10696, 'longitude': 121.53234, 'available_return_bikes': 15}\n",
      "{'sno': '500104099', 'sna': 'YouBike2.0_文林路101巷口', 'sarea': '士林區', 'mday': '2025-02-15 09:59:16', 'ar': '文林路100號前', 'sareaen': 'Shilin Dist', 'snaen': 'YouBike2.0_Ln. 101， Wenlin Rd.', 'aren': 'No. 100， Wenlin Rd.', 'act': '1', 'srcUpdateTime': '2025-02-15 09:59:21', 'updateTime': '2025-02-15 09:59:52', 'infoTime': '2025-02-15 09:59:16', 'infoDate': '2025-02-15', 'total': 17, 'available_rent_bikes': 0, 'latitude': 25.08761, 'longitude': 121.52608, 'available_return_bikes': 17}\n",
      "{'sno': '500104110', 'sna': 'YouBike2.0_海光公園南側', 'sarea': '士林區', 'mday': '2024-12-22 19:12:18', 'ar': '葫蘆街79號對側公園', 'sareaen': 'Shilin Dist', 'snaen': 'YouBike2.0_Haiguang Park (South)', 'aren': 'No. 79， Hulu St. (Opposite)', 'act': '0', 'srcUpdateTime': '2025-02-15 09:59:21', 'updateTime': '2025-02-15 09:59:52', 'infoTime': '2024-12-22 19:12:18', 'infoDate': '2024-12-22', 'total': 12, 'available_rent_bikes': 0, 'latitude': 25.08036, 'longitude': 121.5084, 'available_return_bikes': 12}\n",
      "{'sno': '500104116', 'sna': 'YouBike2.0_天母東路8巷/忠誠路二段154巷口', 'sarea': '士林區', 'mday': '2025-02-15 09:59:16', 'ar': '天母東路8巷57號對側', 'sareaen': 'Shilin Dist', 'snaen': 'YouBike2.0_Ln. 8， Tianmu E. Rd. & Ln. 154， Sec. 2， Zhongcheng Rd. Intersection', 'aren': 'No. 57， Ln. 8， Tianmu E. Rd. (Opposite)', 'act': '1', 'srcUpdateTime': '2025-02-15 09:59:21', 'updateTime': '2025-02-15 09:59:52', 'infoTime': '2025-02-15 09:59:16', 'infoDate': '2025-02-15', 'total': 14, 'available_rent_bikes': 0, 'latitude': 25.11579, 'longitude': 121.53113, 'available_return_bikes': 12}\n",
      "{'sno': '500105013', 'sna': 'YouBike2.0_景美運動公園', 'sarea': '文山區', 'mday': '2025-02-15 09:46:17', 'ar': '景豐街79號(旁公園)', 'sareaen': 'Wenshan Dist', 'snaen': 'YouBike2.0_Jingmei Sports Park', 'aren': 'No. 79， Jingfeng St. (Side)', 'act': '1', 'srcUpdateTime': '2025-02-15 09:59:21', 'updateTime': '2025-02-15 09:59:52', 'infoTime': '2025-02-15 09:46:17', 'infoDate': '2025-02-15', 'total': 26, 'available_rent_bikes': 0, 'latitude': 25.00219, 'longitude': 121.54454, 'available_return_bikes': 25}\n",
      "{'sno': '500105049', 'sna': 'YouBike2.0_興得閱覽室', 'sarea': '文山區', 'mday': '2025-02-15 09:52:16', 'ar': '興隆路三段304巷145號', 'sareaen': 'Wenshan Dist', 'snaen': 'YouBike2.0_Xingde Reading Room', 'aren': 'No. 145， Ln. 304， Sec. 3， Xinglong Rd.', 'act': '1', 'srcUpdateTime': '2025-02-15 09:59:21', 'updateTime': '2025-02-15 09:59:52', 'infoTime': '2025-02-15 09:52:16', 'infoDate': '2025-02-15', 'total': 24, 'available_rent_bikes': 0, 'latitude': 24.99579, 'longitude': 121.55498, 'available_return_bikes': 24}\n",
      "{'sno': '500105059', 'sna': 'YouBike2.0_木南公園', 'sarea': '文山區', 'mday': '2025-02-15 09:45:17', 'ar': '木新路二段永安街22巷口', 'sareaen': 'Wenshan Dist', 'snaen': 'YouBike2.0_Mu Nan Park', 'aren': \"Sec. 2， Muxin Rd. & Ln. 22， Yong'an St. Intersection\", 'act': '1', 'srcUpdateTime': '2025-02-15 09:59:21', 'updateTime': '2025-02-15 09:59:52', 'infoTime': '2025-02-15 09:45:17', 'infoDate': '2025-02-15', 'total': 17, 'available_rent_bikes': 0, 'latitude': 24.98662, 'longitude': 121.57071, 'available_return_bikes': 17}\n",
      "{'sno': '500105062', 'sna': 'YouBike2.0_捷運動物園站(2號出口)', 'sarea': '文山區', 'mday': '2024-11-01 03:49:15', 'ar': '新光路二段28號前', 'sareaen': 'Wenshan Dist', 'snaen': 'YouBike2.0_MRT Taipei Zoo Sta. (Exit 2)', 'aren': 'No. 28， Sec. 2， Xinguang Rd.', 'act': '0', 'srcUpdateTime': '2025-02-15 09:59:21', 'updateTime': '2025-02-15 09:59:52', 'infoTime': '2024-11-01 03:49:15', 'infoDate': '2024-11-01', 'total': 39, 'available_rent_bikes': 0, 'latitude': 24.99766, 'longitude': 121.57875, 'available_return_bikes': 39}\n",
      "{'sno': '500105104', 'sna': 'YouBike2.0_名門社區', 'sarea': '文山區', 'mday': '2025-02-15 09:39:16', 'ar': '和平東路四段77號對側', 'sareaen': 'Wenshan Dist', 'snaen': 'YouBike2.0_Mingmen Community', 'aren': 'No. 77， Sec. 4， HePing E. Rd. (Opposite)', 'act': '1', 'srcUpdateTime': '2025-02-15 09:59:21', 'updateTime': '2025-02-15 09:59:52', 'infoTime': '2025-02-15 09:39:16', 'infoDate': '2025-02-15', 'total': 18, 'available_rent_bikes': 0, 'latitude': 25.00516, 'longitude': 121.56757, 'available_return_bikes': 18}\n",
      "{'sno': '500106005', 'sna': 'YouBike2.0_捷運古亭站(9號出口)', 'sarea': '中正區', 'mday': '2025-02-14 08:45:17', 'ar': '羅斯福路二段100號(前方)', 'sareaen': 'Zhongzheng Dist', 'snaen': 'YouBike2.0_MRT Guting Sta. (Exit 9)', 'aren': 'No. 100， Sec. 2， Roosevelt Rd', 'act': '0', 'srcUpdateTime': '2025-02-15 09:59:21', 'updateTime': '2025-02-15 09:59:52', 'infoTime': '2025-02-14 08:45:17', 'infoDate': '2025-02-14', 'total': 20, 'available_rent_bikes': 0, 'latitude': 25.02694, 'longitude': 121.52224, 'available_return_bikes': 0}\n",
      "{'sno': '500106018', 'sna': 'YouBike2.0_和平重慶路口', 'sarea': '中正區', 'mday': '2025-02-15 09:55:17', 'ar': '和平西路一段/福州街口東側', 'sareaen': 'Zhongzheng Dist', 'snaen': 'YouBike2.0_Heping & Chongqing Rd. Intersection', 'aren': 'Sec. 1， Heping W. Rd. & Fuzhou St. Intersection (East)', 'act': '1', 'srcUpdateTime': '2025-02-15 09:59:21', 'updateTime': '2025-02-15 09:59:52', 'infoTime': '2025-02-15 09:55:17', 'infoDate': '2025-02-15', 'total': 46, 'available_rent_bikes': 0, 'latitude': 25.02723, 'longitude': 121.51659, 'available_return_bikes': 45}\n",
      "{'sno': '500106050', 'sna': 'YouBike2.0_捷運小南門站(1號出口)', 'sarea': '中正區', 'mday': '2025-02-15 09:56:16', 'ar': '愛國西路/延平南路(西北側)', 'sareaen': 'Zhongzheng Dist', 'snaen': 'YouBike2.0_MRT Xiaonanmen Sta. (Exit 1)', 'aren': 'Aiguo E. Rd. & Yanping S. Rd Intersection (Northwest)', 'act': '1', 'srcUpdateTime': '2025-02-15 09:59:21', 'updateTime': '2025-02-15 09:59:52', 'infoTime': '2025-02-15 09:56:16', 'infoDate': '2025-02-15', 'total': 46, 'available_rent_bikes': 0, 'latitude': 25.03648, 'longitude': 121.50951, 'available_return_bikes': 45}\n",
      "{'sno': '500106078', 'sna': 'YouBike2.0_徐州杭州路口', 'sarea': '中正區', 'mday': '2025-02-15 09:59:16', 'ar': '徐州路/杭州南路一段口(西北側)', 'sareaen': 'Zhongzheng Dist', 'snaen': 'YouBike2.0_Xuzhou Rd. Hangzhou Rd. Intersection', 'aren': 'Xuzhou Rd. Sec. 1， Hangzhou S. Rd. Intersection (Northwest)', 'act': '1', 'srcUpdateTime': '2025-02-15 09:59:21', 'updateTime': '2025-02-15 09:59:52', 'infoTime': '2025-02-15 09:59:16', 'infoDate': '2025-02-15', 'total': 30, 'available_rent_bikes': 0, 'latitude': 25.04023, 'longitude': 121.52565, 'available_return_bikes': 30}\n",
      "{'sno': '500106089', 'sna': 'YouBike2.0_羅斯福寧波東街口', 'sarea': '中正區', 'mday': '2025-01-27 14:49:16', 'ar': '羅斯福路一段/寧波東街(東南側)', 'sareaen': 'Zhongzheng Dist', 'snaen': 'YouBike2.0_Roosevelt Rd. & Ningbo E. St. Intersection', 'aren': 'Sec. 1， Roosevelt Rd. & Ningbo E. St. Intersection (Southeast)', 'act': '0', 'srcUpdateTime': '2025-02-15 09:59:21', 'updateTime': '2025-02-15 09:59:52', 'infoTime': '2025-01-27 14:49:16', 'infoDate': '2025-01-27', 'total': 26, 'available_rent_bikes': 0, 'latitude': 25.03145, 'longitude': 121.51941, 'available_return_bikes': 0}\n",
      "{'sno': '500106104', 'sna': 'YouBike2.0_捷運臺大醫院站(1號出口)', 'sarea': '中正區', 'mday': '2025-02-15 09:50:19', 'ar': '公園路/常德街口(西側)', 'sareaen': 'Zhongzheng Dist', 'snaen': 'YouBike2.0_MRT NTU Hospital Sta. (Exit. 1)', 'aren': 'Gongyuan Rd. & Changde St. Intersection (West)', 'act': '1', 'srcUpdateTime': '2025-02-15 09:59:21', 'updateTime': '2025-02-15 09:59:52', 'infoTime': '2025-02-15 09:50:19', 'infoDate': '2025-02-15', 'total': 19, 'available_rent_bikes': 0, 'latitude': 25.04074, 'longitude': 121.51586, 'available_return_bikes': 19}\n",
      "{'sno': '500106120', 'sna': 'YouBike2.0_螢橋公園', 'sarea': '中正區', 'mday': '2025-02-15 09:33:15', 'ar': '和平西路一段110號旁', 'sareaen': 'Zhongzheng Dist', 'snaen': 'YouBike2.0_Yingqiao Park', 'aren': 'No. 110， Sec. 1， Heping W. Rd.', 'act': '1', 'srcUpdateTime': '2025-02-15 09:59:21', 'updateTime': '2025-02-15 09:59:52', 'infoTime': '2025-02-15 09:33:15', 'infoDate': '2025-02-15', 'total': 29, 'available_rent_bikes': 0, 'latitude': 25.02682, 'longitude': 121.51737, 'available_return_bikes': 25}\n",
      "{'sno': '500106136', 'sna': 'YouBike2.0_公館水岸廣場', 'sarea': '中正區', 'mday': '2025-02-15 09:47:16', 'ar': '水源路與思源街口', 'sareaen': 'Zhongzheng Dist', 'snaen': 'YouBike2.0_Gongguan Riverside Plaza', 'aren': 'ShuiYuan Rd. & SiYuan St. Intersection', 'act': '1', 'srcUpdateTime': '2025-02-15 09:59:21', 'updateTime': '2025-02-15 09:59:52', 'infoTime': '2025-02-15 09:47:16', 'infoDate': '2025-02-15', 'total': 27, 'available_rent_bikes': 0, 'latitude': 25.01193, 'longitude': 121.52861, 'available_return_bikes': 27}\n",
      "{'sno': '500107023', 'sna': 'YouBike2.0_興安華城', 'sarea': '中山區', 'mday': '2025-02-15 09:59:16', 'ar': '興安街53-4號對側', 'sareaen': 'Zhongshan Dist', 'snaen': 'YouBike2.0_Xing An Hua Cheng', 'aren': \"No. 53-4， Xing'an St. (Opposite)\", 'act': '1', 'srcUpdateTime': '2025-02-15 09:59:21', 'updateTime': '2025-02-15 09:59:52', 'infoTime': '2025-02-15 09:59:16', 'infoDate': '2025-02-15', 'total': 62, 'available_rent_bikes': 0, 'latitude': 25.05606, 'longitude': 121.54175, 'available_return_bikes': 61}\n",
      "{'sno': '500107044', 'sna': 'YouBike2.0_新生高架停車場(林森北路107巷口)', 'sarea': '中山區', 'mday': '2025-02-15 09:53:15', 'ar': '新生北路一段與林森北路107巷口(新生高架橋下)', 'sareaen': 'Zhongshan Dist', 'snaen': 'YouBike2.0_Xinsheng Elevated Parking Lot (Ln. 107， Linsen N. Rd.)', 'aren': 'Sec. 1， Xinsheng N. Rd. & Ln. 107， Linsen N. Rd. (Under Xinsheng Elevated Bridge)', 'act': '1', 'srcUpdateTime': '2025-02-15 09:59:21', 'updateTime': '2025-02-15 09:59:52', 'infoTime': '2025-02-15 09:53:15', 'infoDate': '2025-02-15', 'total': 14, 'available_rent_bikes': 0, 'latitude': 25.04983, 'longitude': 121.52853, 'available_return_bikes': 13}\n",
      "{'sno': '500107077', 'sna': 'YouBike2.0_中山北路二段59巷口', 'sarea': '中山區', 'mday': '2025-01-26 16:33:15', 'ar': '中山北路二段59之3號前', 'sareaen': 'Zhongshan Dist', 'snaen': 'YouBike2.0_Ln. 59， Sec. 2， Zhongshan N. Rd.', 'aren': 'No. 59-3， Sec. 2， Zhongshan N. Rd.', 'act': '0', 'srcUpdateTime': '2025-02-15 09:59:21', 'updateTime': '2025-02-15 09:59:52', 'infoTime': '2025-01-26 16:33:15', 'infoDate': '2025-01-26', 'total': 12, 'available_rent_bikes': 0, 'latitude': 25.05606, 'longitude': 121.5229, 'available_return_bikes': 12}\n",
      "{'sno': '500107105', 'sna': 'YouBike2.0_民族玉門街口', 'sarea': '中山區', 'mday': '2025-02-15 09:38:15', 'ar': '民族西路口與玉門街口東北側', 'sareaen': 'Zhongshan Dist', 'snaen': 'YouBike2.0_Minzu Rd. & Yumen St. Intersection', 'aren': 'Minzu W. Rd. & Yumen St. Intersection (Northeast)', 'act': '1', 'srcUpdateTime': '2025-02-15 09:59:21', 'updateTime': '2025-02-15 09:59:52', 'infoTime': '2025-02-15 09:38:15', 'infoDate': '2025-02-15', 'total': 20, 'available_rent_bikes': 0, 'latitude': 25.06873, 'longitude': 121.52003, 'available_return_bikes': 20}\n",
      "{'sno': '500107113', 'sna': 'YouBike2.0_建國長春路口(北側)', 'sarea': '中山區', 'mday': '2025-02-15 09:58:16', 'ar': '建國北路/長春路口(北側)', 'sareaen': 'Zhongshan Dist', 'snaen': 'YouBike2.0_Jianguo Rd. & Changchun Rd. Intersection', 'aren': 'Jianguo N. Rd. & Changchun Rd. Intersection (North)', 'act': '1', 'srcUpdateTime': '2025-02-15 09:59:21', 'updateTime': '2025-02-15 09:59:52', 'infoTime': '2025-02-15 09:58:16', 'infoDate': '2025-02-15', 'total': 30, 'available_rent_bikes': 0, 'latitude': 25.05476, 'longitude': 121.53693, 'available_return_bikes': 29}\n",
      "{'sno': '500107120', 'sna': 'YouBike2.0_復華公園', 'sarea': '中山區', 'mday': '2025-02-15 09:41:16', 'ar': '南京東路三段109巷/龍江路120巷', 'sareaen': 'Zhongshan Dist', 'snaen': 'YouBike2.0_Fuhua Park', 'aren': 'Ln. 109， Sec. 3， Nanjing E. Rd. & Ln. 120， Longjiang Rd. Intersection', 'act': '1', 'srcUpdateTime': '2025-02-15 09:59:21', 'updateTime': '2025-02-15 09:59:52', 'infoTime': '2025-02-15 09:41:16', 'infoDate': '2025-02-15', 'total': 20, 'available_rent_bikes': 0, 'latitude': 25.05339, 'longitude': 121.5401, 'available_return_bikes': 20}\n",
      "{'sno': '500107133', 'sna': 'YouBike2.0_敬業三樂群三路口(西北側)', 'sarea': '中山區', 'mday': '2025-02-08 01:24:15', 'ar': '敬業三路/樂群三路口', 'sareaen': 'Zhongshan Dist', 'snaen': 'YouBike2.0_Jingye 3rd Rd. & Lequn 3rd Rd. Intersection (Northwest)', 'aren': 'Jingye 3rd Rd. & Lequn 3rd Rd. Intersection', 'act': '0', 'srcUpdateTime': '2025-02-15 09:59:21', 'updateTime': '2025-02-15 09:59:52', 'infoTime': '2025-02-08 01:24:15', 'infoDate': '2025-02-08', 'total': 22, 'available_rent_bikes': 0, 'latitude': 25.08272, 'longitude': 121.55624, 'available_return_bikes': 22}\n",
      "{'sno': '500107134', 'sna': 'YouBike2.0_長春路258巷2弄口', 'sarea': '中山區', 'mday': '2025-02-15 08:37:15', 'ar': '長春路258巷6號北側', 'sareaen': 'Zhongshan Dist', 'snaen': 'YouBike2.0_Aly. 2， Ln. 258， Changchun Rd.', 'aren': 'No. 6， Ln. 258， Changchun Rd. (North)', 'act': '0', 'srcUpdateTime': '2025-02-15 09:59:21', 'updateTime': '2025-02-15 09:59:52', 'infoTime': '2025-02-15 08:37:15', 'infoDate': '2025-02-15', 'total': 15, 'available_rent_bikes': 0, 'latitude': 25.05427, 'longitude': 121.53896, 'available_return_bikes': 0}\n",
      "{'sno': '500107152', 'sna': 'YouBike2.0_中崙加油站', 'sarea': '中山區', 'mday': '2025-02-15 09:13:18', 'ar': '八德路二段214號', 'sareaen': 'Zhongshan Dist', 'snaen': 'YouBike2.0_ZhongLun Gas station', 'aren': 'No. 21， Sec. 2， Bade Rd.', 'act': '1', 'srcUpdateTime': '2025-02-15 09:59:21', 'updateTime': '2025-02-15 09:59:52', 'infoTime': '2025-02-15 09:13:18', 'infoDate': '2025-02-15', 'total': 27, 'available_rent_bikes': 0, 'latitude': 25.04634, 'longitude': 121.53979, 'available_return_bikes': 27}\n",
      "{'sno': '500107154', 'sna': 'YouBike2.0_中正國小(南京東路三段48巷)', 'sarea': '中山區', 'mday': '2025-02-15 09:59:19', 'ar': '南京東路三段48巷/龍江路76巷', 'sareaen': 'Zhongshan Dist', 'snaen': 'YouBike2.0_Zhong Zheng Elementary School (Ln. 48， Sec. 3， NanJing E. Rd.)', 'aren': 'Ln. 48， Sec. 3， NanJing E. Rd. & Ln. 76， LongJiang Rd. Intersection', 'act': '1', 'srcUpdateTime': '2025-02-15 09:59:21', 'updateTime': '2025-02-15 09:59:52', 'infoTime': '2025-02-15 09:59:19', 'infoDate': '2025-02-15', 'total': 15, 'available_rent_bikes': 0, 'latitude': 25.05126, 'longitude': 121.53845, 'available_return_bikes': 15}\n",
      "{'sno': '500108032', 'sna': 'YouBike2.0_瑞陽公園', 'sarea': '內湖區', 'mday': '2025-02-15 09:58:19', 'ar': '文德路22巷6號(對面)', 'sareaen': 'Neihu Dist', 'snaen': 'YouBike2.0_Ruiyang Park', 'aren': 'No. 6， Ln. 22， Wende Rd. (Opposite)', 'act': '1', 'srcUpdateTime': '2025-02-15 09:59:21', 'updateTime': '2025-02-15 09:59:52', 'infoTime': '2025-02-15 09:58:19', 'infoDate': '2025-02-15', 'total': 12, 'available_rent_bikes': 0, 'latitude': 25.07777, 'longitude': 121.57961, 'available_return_bikes': 12}\n",
      "{'sno': '500108061', 'sna': 'YouBike2.0_碧湖公園(內湖路二段103巷)', 'sarea': '內湖區', 'mday': '2025-02-15 09:58:19', 'ar': '內湖路二段103巷76號(對面)', 'sareaen': 'Neihu Dist', 'snaen': 'YouBike2.0_Bihu Park (Ln. 103， Sec. 2， Neihu Rd.)', 'aren': 'No. 76， Ln. 103， Sec. 2， Neihu Rd. (Opposite)', 'act': '1', 'srcUpdateTime': '2025-02-15 09:59:21', 'updateTime': '2025-02-15 09:59:52', 'infoTime': '2025-02-15 09:58:19', 'infoDate': '2025-02-15', 'total': 19, 'available_rent_bikes': 0, 'latitude': 25.08317, 'longitude': 121.58109, 'available_return_bikes': 19}\n",
      "{'sno': '500109048', 'sna': 'YouBike2.0_陽明交大圖書館', 'sarea': '北投區', 'mday': '2025-02-15 09:33:15', 'ar': '陽明交大圖書館後方機車停車場', 'sareaen': 'Beitou Dist', 'snaen': 'YouBike2.0_National Yang-Ming University Library', 'aren': 'Parking lot at the back of the NYCU Library', 'act': '1', 'srcUpdateTime': '2025-02-15 09:59:21', 'updateTime': '2025-02-15 09:59:52', 'infoTime': '2025-02-15 09:33:15', 'infoDate': '2025-02-15', 'total': 37, 'available_rent_bikes': 0, 'latitude': 25.12081, 'longitude': 121.51352, 'available_return_bikes': 37}\n",
      "{'sno': '500109065', 'sna': 'YouBike2.0_奇岩一號公園', 'sarea': '北投區', 'mday': '2024-11-01 03:51:14', 'ar': '磺港路/清江路177巷(東側)', 'sareaen': 'Beitou Dist', 'snaen': 'YouBike2.0_Qiyan No.1 Park', 'aren': 'Huanggang Rd. & Ln. 177， Qingjiang Rd. Intersection (East)', 'act': '0', 'srcUpdateTime': '2025-02-15 09:59:21', 'updateTime': '2025-02-15 09:59:52', 'infoTime': '2024-11-01 03:51:14', 'infoDate': '2024-11-01', 'total': 24, 'available_rent_bikes': 0, 'latitude': 25.12862, 'longitude': 121.5033, 'available_return_bikes': 24}\n",
      "{'sno': '500109094', 'sna': 'YouBike2.0_立功街55巷口', 'sarea': '北投區', 'mday': '2025-02-15 09:25:18', 'ar': '立功街76號對側', 'sareaen': 'Beitou Dist', 'snaen': 'YouBike2.0_Ln. 55， LiGong St.', 'aren': 'No. 76， LiGong St. (Opposite)', 'act': '1', 'srcUpdateTime': '2025-02-15 09:59:21', 'updateTime': '2025-02-15 09:59:52', 'infoTime': '2025-02-15 09:25:18', 'infoDate': '2025-02-15', 'total': 14, 'available_rent_bikes': 0, 'latitude': 25.12518, 'longitude': 121.46922, 'available_return_bikes': 14}\n",
      "{'sno': '500109106', 'sna': 'YouBike2.0_泉源路23巷口', 'sarea': '北投區', 'mday': '2025-02-15 09:30:18', 'ar': '泉源路23巷/泉源路', 'sareaen': 'Beitou Dist', 'snaen': 'YouBike2.0_Ln. 23， QuanYuan Rd.', 'aren': 'Ln. 23， QuanYuan Rd. & QuanYuan Rd. Intersection', 'act': '1', 'srcUpdateTime': '2025-02-15 09:59:21', 'updateTime': '2025-02-15 09:59:52', 'infoTime': '2025-02-15 09:30:18', 'infoDate': '2025-02-15', 'total': 25, 'available_rent_bikes': 0, 'latitude': 25.13939, 'longitude': 121.50571, 'available_return_bikes': 25}\n",
      "{'sno': '500110008', 'sna': 'YouBike2.0_光復北路11巷口', 'sarea': '松山區', 'mday': '2025-02-15 09:59:19', 'ar': '光復北路13號(旁)', 'sareaen': 'Songshan Dist', 'snaen': 'YouBike2.0_Ln. 11， Guangfu N Rd.', 'aren': 'No. 13， Guangfu N Rd.', 'act': '1', 'srcUpdateTime': '2025-02-15 09:59:21', 'updateTime': '2025-02-15 09:59:52', 'infoTime': '2025-02-15 09:59:19', 'infoDate': '2025-02-15', 'total': 23, 'available_rent_bikes': 0, 'latitude': 25.04937, 'longitude': 121.558, 'available_return_bikes': 22}\n",
      "{'sno': '500110016', 'sna': 'YouBike2.0_三民路166巷口', 'sarea': '松山區', 'mday': '2025-02-15 09:58:16', 'ar': '三民路166巷1號(對面)', 'sareaen': 'Songshan Dist', 'snaen': 'YouBike2.0_Ln. 166， Sanmin Rd. Intersection', 'aren': 'No. 1， Ln. 166， Sanmin Rd. (Opposite)', 'act': '1', 'srcUpdateTime': '2025-02-15 09:59:21', 'updateTime': '2025-02-15 09:59:52', 'infoTime': '2025-02-15 09:58:16', 'infoDate': '2025-02-15', 'total': 12, 'available_rent_bikes': 0, 'latitude': 25.0619, 'longitude': 121.56328, 'available_return_bikes': 12}\n",
      "{'sno': '500110030', 'sna': 'YouBike2.0_健康社會住宅', 'sarea': '松山區', 'mday': '2025-02-15 09:55:17', 'ar': '健康路305號(前)', 'sareaen': 'Songshan Dist', 'snaen': 'YouBike2.0_Jiankang Social Housing', 'aren': 'No. 305， Jiankang Rd.', 'act': '1', 'srcUpdateTime': '2025-02-15 09:59:21', 'updateTime': '2025-02-15 09:59:52', 'infoTime': '2025-02-15 09:55:17', 'infoDate': '2025-02-15', 'total': 20, 'available_rent_bikes': 0, 'latitude': 25.05433, 'longitude': 121.56545, 'available_return_bikes': 20}\n",
      "{'sno': '500110081', 'sna': 'YouBike2.0_延壽街119巷口', 'sarea': '松山區', 'mday': '2025-02-15 09:59:19', 'ar': '延壽街119巷/延壽街', 'sareaen': 'Songshan Dist', 'snaen': 'YouBike2.0_Ln. 119， Yanshou St.', 'aren': 'Ln. 119， Yanshou St. & Yanshou St.', 'act': '1', 'srcUpdateTime': '2025-02-15 09:59:21', 'updateTime': '2025-02-15 09:59:52', 'infoTime': '2025-02-15 09:59:19', 'infoDate': '2025-02-15', 'total': 15, 'available_rent_bikes': 0, 'latitude': 25.05708, 'longitude': 121.56486, 'available_return_bikes': 14}\n",
      "{'sno': '500110087', 'sna': 'YouBike2.0_寶清八德路口(北側)', 'sarea': '松山區', 'mday': '2024-11-01 03:51:14', 'ar': '寶清街29號旁', 'sareaen': 'Songshan Dist', 'snaen': 'YouBike2.0_BaoQing St. & BaDe Rd. Intersection (North)', 'aren': 'No. 29， BaoQing St.', 'act': '0', 'srcUpdateTime': '2025-02-15 09:59:21', 'updateTime': '2025-02-15 09:59:52', 'infoTime': '2024-11-01 03:51:14', 'infoDate': '2024-11-01', 'total': 15, 'available_rent_bikes': 0, 'latitude': 25.05028, 'longitude': 121.56879, 'available_return_bikes': 15}\n",
      "{'sno': '500110090', 'sna': 'YouBike2.0_健康公園', 'sarea': '松山區', 'mday': '2025-02-15 09:37:16', 'ar': '健康路442號旁', 'sareaen': 'Songshan Dist', 'snaen': 'YouBike2.0_JianKang Park', 'aren': 'No. 442， JianKang Rd.', 'act': '1', 'srcUpdateTime': '2025-02-15 09:59:21', 'updateTime': '2025-02-15 09:59:52', 'infoTime': '2025-02-15 09:37:16', 'infoDate': '2025-02-15', 'total': 26, 'available_rent_bikes': 0, 'latitude': 25.05434, 'longitude': 121.56878, 'available_return_bikes': 26}\n",
      "{'sno': '500111019', 'sna': 'YouBike2.0_捷運南港軟體園區(2號出口)', 'sarea': '南港區', 'mday': '2024-11-01 03:52:15', 'ar': '經貿二路183號(2號出口)', 'sareaen': 'Nangang Dist', 'snaen': 'YouBike2.0_MRT Nangang Software Park Sta. (Exit 2)', 'aren': 'No. 183， Jingmao 2nd Rd. (Exit 2)', 'act': '0', 'srcUpdateTime': '2025-02-15 09:59:21', 'updateTime': '2025-02-15 09:59:52', 'infoTime': '2024-11-01 03:52:15', 'infoDate': '2024-11-01', 'total': 37, 'available_rent_bikes': 0, 'latitude': 25.05933, 'longitude': 121.61677, 'available_return_bikes': 37}\n",
      "{'sno': '500112012', 'sna': 'YouBike2.0_松仁路253巷3弄', 'sarea': '信義區', 'mday': '2025-02-15 09:59:16', 'ar': '松仁路215巷6號', 'sareaen': 'Xinyi Dist', 'snaen': 'YouBike2.0_Aly. 3， Ln. 253， Songren Rd', 'aren': 'No. 6， Ln. 215， Songren Rd.', 'act': '1', 'srcUpdateTime': '2025-02-15 09:59:21', 'updateTime': '2025-02-15 09:59:52', 'infoTime': '2025-02-15 09:59:16', 'infoDate': '2025-02-15', 'total': 25, 'available_rent_bikes': 0, 'latitude': 25.02678, 'longitude': 121.56884, 'available_return_bikes': 25}\n",
      "{'sno': '500112021', 'sna': 'YouBike2.0_光復信義路口東南側', 'sarea': '信義區', 'mday': '2024-12-10 09:04:14', 'ar': '光復南路485號前方', 'sareaen': 'Xinyi Dist', 'snaen': 'YouBike2.0_Guangfu S. Rd & Sec. 4， Xinyi Rd Intersection (Southeast)', 'aren': 'No. 485， Guangfu S. Rd.', 'act': '0', 'srcUpdateTime': '2025-02-15 09:59:21', 'updateTime': '2025-02-15 09:59:52', 'infoTime': '2024-12-10 09:04:14', 'infoDate': '2024-12-10', 'total': 16, 'available_rent_bikes': 0, 'latitude': 25.03281, 'longitude': 121.55756, 'available_return_bikes': 0}\n",
      "{'sno': '500112030', 'sna': 'YouBike2.0_松智松壽路口', 'sarea': '信義區', 'mday': '2025-02-15 07:57:15', 'ar': '松智路/松壽路(西北側)', 'sareaen': 'Xinyi Dist', 'snaen': 'YouBike2.0_Songzhi Rd & Songshou Rd Intersection', 'aren': 'Songzhi Rd & Songshou Rd Intersection. (Northwest)', 'act': '0', 'srcUpdateTime': '2025-02-15 09:59:21', 'updateTime': '2025-02-15 09:59:52', 'infoTime': '2025-02-15 07:57:15', 'infoDate': '2025-02-15', 'total': 39, 'available_rent_bikes': 0, 'latitude': 25.03607, 'longitude': 121.56535, 'available_return_bikes': 0}\n",
      "{'sno': '500112079', 'sna': 'YouBike2.0_協和祐德高級中學', 'sarea': '信義區', 'mday': '2025-02-15 09:45:17', 'ar': '中坡南路51號對側', 'sareaen': 'Xinyi Dist', 'snaen': 'YouBike2.0_Xiehe Youde High School', 'aren': 'No. 51， Zhongpo S. Rd. (Opposite)', 'act': '1', 'srcUpdateTime': '2025-02-15 09:59:21', 'updateTime': '2025-02-15 09:59:52', 'infoTime': '2025-02-15 09:45:17', 'infoDate': '2025-02-15', 'total': 20, 'available_rent_bikes': 0, 'latitude': 25.0426, 'longitude': 121.58381, 'available_return_bikes': 20}\n",
      "{'sno': '500112094', 'sna': 'YouBike2.0_吳興街284巷(廣安宮)', 'sarea': '信義區', 'mday': '2025-02-15 09:55:17', 'ar': '吳興街284巷23號對側', 'sareaen': 'Xinyi Dist', 'snaen': 'YouBike2.0_Ln. 284， Wuxing St. (Guangan Shrine)', 'aren': 'No. 23， Ln. 284， Wuxing St. (Opposite)', 'act': '1', 'srcUpdateTime': '2025-02-15 09:59:21', 'updateTime': '2025-02-15 09:59:52', 'infoTime': '2025-02-15 09:55:17', 'infoDate': '2025-02-15', 'total': 15, 'available_rent_bikes': 0, 'latitude': 25.02326, 'longitude': 121.56329, 'available_return_bikes': 15}\n",
      "{'sno': '500113062', 'sna': 'YouBike2.0_龍山國中', 'sarea': '萬華區', 'mday': '2025-02-15 09:58:16', 'ar': '南寧路與廣州街口南側', 'sareaen': 'Wanhua Dist', 'snaen': 'YouBike2.0_LongShan Junior High School', 'aren': 'Nanning Rd. & Guangzhou St. Intersection (South)', 'act': '1', 'srcUpdateTime': '2025-02-15 09:59:21', 'updateTime': '2025-02-15 09:59:52', 'infoTime': '2025-02-15 09:58:16', 'infoDate': '2025-02-15', 'total': 15, 'available_rent_bikes': 0, 'latitude': 25.03646, 'longitude': 121.50492, 'available_return_bikes': 15}\n",
      "{'sno': '500119047', 'sna': 'YouBike2.0_臺大土木系館', 'sarea': '臺大公館校區', 'mday': '2025-02-15 09:54:16', 'ar': '臺大土木工程學系所南側', 'sareaen': 'NTU Dist', 'snaen': 'YouBike2.0_NTU Dept. of Civil Engineering', 'aren': 'NTU Dept. of Civil Engineering(South)', 'act': '1', 'srcUpdateTime': '2025-02-15 09:59:21', 'updateTime': '2025-02-15 09:59:52', 'infoTime': '2025-02-15 09:54:16', 'infoDate': '2025-02-15', 'total': 30, 'available_rent_bikes': 0, 'latitude': 25.01761, 'longitude': 121.53844, 'available_return_bikes': 30}\n",
      "{'sno': '500119056', 'sna': 'YouBike2.0_臺大農化新館西側', 'sarea': '臺大公館校區', 'mday': '2025-02-15 09:59:16', 'ar': '臺大生化科技學系西側', 'sareaen': 'NTU Dist', 'snaen': 'YouBike2.0_NTU New Agricultural Chemistry Building(West)', 'aren': 'NTU Department of Biochemical Science and Technology(West)', 'act': '1', 'srcUpdateTime': '2025-02-15 09:59:21', 'updateTime': '2025-02-15 09:59:52', 'infoTime': '2025-02-15 09:59:16', 'infoDate': '2025-02-15', 'total': 10, 'available_rent_bikes': 0, 'latitude': 25.01627, 'longitude': 121.53535, 'available_return_bikes': 10}\n"
     ]
    }
   ],
   "source": [
    "for site in data:\n",
    "    if site['available_rent_bikes'] == 0:\n",
    "        print(site)\n"
   ]
  },
  {
   "cell_type": "code",
   "execution_count": 10,
   "metadata": {},
   "outputs": [
    {
     "name": "stdout",
     "output_type": "stream",
     "text": [
      "36\n",
      "YouBike2.0_和平復興路口西北側\n",
      "YouBike2.0_羅斯福路三段311號前\n",
      "YouBike2.0_銘傳國小側門\n",
      "YouBike2.0_第二學生活動中心\n",
      "YouBike2.0_信義路四段199巷\n",
      "YouBike2.0_安和路二段69巷口\n",
      "YouBike2.0_捷運古亭站(3號出口)\n",
      "YouBike2.0_捷運雙連站(2號出口)\n",
      "YouBike2.0_承德民生西路口\n",
      "YouBike2.0_重慶北通河西街口\n",
      "YouBike2.0_捷運萬隆站(2號出口)\n",
      "YouBike2.0_師範大學公館校區\n",
      "YouBike2.0_政大國際會館\n",
      "YouBike2.0_捷運古亭站(9號出口)\n",
      "YouBike2.0_捷運古亭站(2號出口)\n",
      "YouBike2.0_聯合醫院和平院區\n",
      "YouBike2.0_羅斯福寧波東街口\n",
      "YouBike2.0_泉州寧波西街口\n",
      "YouBike2.0_捷運松江南京站(8號出口)\n",
      "YouBike2.0_新生農安街口\n",
      "YouBike2.0_長春路258巷2弄口\n",
      "YouBike2.0_朱崙復興北路口\n",
      "YouBike2.0_成功路四段41巷口\n",
      "YouBike2.0_內湖運動中心\n",
      "YouBike2.0_公舘承德路口\n",
      "YouBike2.0_捷運小巨蛋站(2號出口)\n",
      "YouBike2.0_捷運南京復興站(7號出口)\n",
      "YouBike2.0_中坡市民路口(東北側)\n",
      "YouBike2.0_南港車站(忠孝東路)\n",
      "YouBike2.0_成德立體停車場\n",
      "YouBike2.0_捷運象山站(1號出口)\n",
      "YouBike2.0_光復信義路口東南側\n",
      "YouBike2.0_松智松壽路口\n",
      "YouBike2.0_泰和里民活動中心\n",
      "YouBike2.0_捷運後山埤站(2號出口)\n",
      "YouBike2.0_臺大原分所北側\n"
     ]
    }
   ],
   "source": [
    "def filter_fun(n):\n",
    "    return n['available_return_bikes'] == 0\n",
    "\n",
    "zero_return_bikes = list(filter(filter_fun,data))\n",
    "print(len(zero_return_bikes))\n",
    "for site in zero_return_bikes:\n",
    "    print(site['sna'])"
   ]
  }
 ],
 "metadata": {
  "kernelspec": {
   "display_name": "base",
   "language": "python",
   "name": "python3"
  },
  "language_info": {
   "codemirror_mode": {
    "name": "ipython",
    "version": 3
   },
   "file_extension": ".py",
   "mimetype": "text/x-python",
   "name": "python",
   "nbconvert_exporter": "python",
   "pygments_lexer": "ipython3",
   "version": "3.12.7"
  }
 },
 "nbformat": 4,
 "nbformat_minor": 2
}
