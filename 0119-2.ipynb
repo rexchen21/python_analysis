{
 "cells": [
  {
   "cell_type": "code",
   "execution_count": 3,
   "metadata": {},
   "outputs": [
    {
     "data": {
      "text/plain": [
       "{'name': '陳垠誠', 'age': '51', 'city': 'Taipei'}"
      ]
     },
     "execution_count": 3,
     "metadata": {},
     "output_type": "execute_result"
    }
   ],
   "source": [
    "p1 = {\"name\":\"陳垠誠\",\n",
    "    \"age\":\"51\",\n",
    "    \"city\":\"Taipei\"}\n",
    "p1"
   ]
  },
  {
   "cell_type": "code",
   "execution_count": 4,
   "metadata": {},
   "outputs": [
    {
     "name": "stdout",
     "output_type": "stream",
     "text": [
      "陳垠誠\n",
      "51\n"
     ]
    }
   ],
   "source": [
    "print(p1[\"name\"])\n",
    "print(p1.get(\"age\"))"
   ]
  },
  {
   "cell_type": "code",
   "execution_count": 5,
   "metadata": {},
   "outputs": [
    {
     "data": {
      "text/plain": [
       "'51'"
      ]
     },
     "execution_count": 5,
     "metadata": {},
     "output_type": "execute_result"
    }
   ],
   "source": [
    "del p1[\"city\"]\n",
    "p1.pop(\"age\")\n"
   ]
  },
  {
   "cell_type": "code",
   "execution_count": 6,
   "metadata": {},
   "outputs": [],
   "source": [
    "del p1"
   ]
  },
  {
   "cell_type": "code",
   "execution_count": 7,
   "metadata": {},
   "outputs": [
    {
     "ename": "NameError",
     "evalue": "name 'p1' is not defined",
     "output_type": "error",
     "traceback": [
      "\u001b[1;31m---------------------------------------------------------------------------\u001b[0m",
      "\u001b[1;31mNameError\u001b[0m                                 Traceback (most recent call last)",
      "Cell \u001b[1;32mIn[7], line 1\u001b[0m\n\u001b[1;32m----> 1\u001b[0m \u001b[43mp1\u001b[49m\n",
      "\u001b[1;31mNameError\u001b[0m: name 'p1' is not defined"
     ]
    }
   ],
   "source": [
    "p1"
   ]
  },
  {
   "cell_type": "code",
   "execution_count": 30,
   "metadata": {},
   "outputs": [
    {
     "name": "stdout",
     "output_type": "stream",
     "text": [
      "蘋果\n",
      "香蕉\n",
      "橘子\n"
     ]
    }
   ],
   "source": [
    "fruits = [\"蘋果\", \"香蕉\", \"橘子\"]\n",
    "for fruit in fruits:\n",
    "    print(fruit)"
   ]
  },
  {
   "cell_type": "code",
   "execution_count": 33,
   "metadata": {},
   "outputs": [
    {
     "name": "stdout",
     "output_type": "stream",
     "text": [
      "0-->蘋果\n",
      "=====\n",
      "1-->香蕉\n",
      "=====\n",
      "2-->橘子\n",
      "=====\n"
     ]
    }
   ],
   "source": [
    "for index,fruit in enumerate(fruits):\n",
    "    print(index, fruit, sep=\"-->\")\n",
    "    print(\"=====\")"
   ]
  },
  {
   "cell_type": "code",
   "execution_count": 8,
   "metadata": {},
   "outputs": [
    {
     "name": "stdout",
     "output_type": "stream",
     "text": [
      "Taipei:台北\n",
      "New Taipei:新北\n",
      "Taichung:台中\n",
      "Tainan:台南\n",
      "Kaohsiung:高雄\n",
      "Hsinchu:新竹\n",
      "Keelung:基隆\n",
      "Taoyuan:桃園\n",
      "Chiayi:嘉義\n",
      "Hualien:花蓮\n"
     ]
    }
   ],
   "source": [
    "cities = {\n",
    "    \"Taipei\": \"台北\",\n",
    "    \"New Taipei\": \"新北\",\n",
    "    \"Taichung\": \"台中\",\n",
    "    \"Tainan\": \"台南\",\n",
    "    \"Kaohsiung\": \"高雄\",\n",
    "    \"Hsinchu\": \"新竹\",\n",
    "    \"Keelung\": \"基隆\",\n",
    "    \"Taoyuan\": \"桃園\",\n",
    "    \"Chiayi\": \"嘉義\",\n",
    "    \"Hualien\": \"花蓮\"\n",
    "}\n",
    "for key, value in cities.items():\n",
    "    print(f\"{key}:{value}\")"
   ]
  },
  {
   "cell_type": "code",
   "execution_count": 9,
   "metadata": {},
   "outputs": [
    {
     "data": {
      "text/plain": [
       "\"[{'name': 'student1', 'chinese': 96, 'english': 84, 'math': 63, 'history': 95, 'health': 68}, {'name': 'student2', 'chinese': 79, 'english': 93, 'math': 80, 'history': 66, 'health': 57}, {'name': 'student3', 'chinese': 58, 'english': 91, 'math': 58, 'history': 96, 'health': 61}, {'name': 'student4', 'chinese': 71, 'english': 98, 'math': 54, 'history': 54, 'health': 64}, {'name': 'student5', 'chinese': 52, 'english': 81, 'math': 72, 'history': 75, 'health': 96}, {'name': 'student6', 'chinese': 96, 'english': 84, 'math': 66, 'history': 67, 'health': 76}, {'name': 'student7', 'chinese': 84, 'english': 80, 'math': 68, 'history': 66, 'health': 91}, {'name': 'student8', 'chinese': 88, 'english': 60, 'math': 97, 'history': 75, 'health': 70}, {'name': 'student9', 'chinese': 53, 'english': 88, 'math': 77, 'history': 90, 'health': 85}, {'name': 'student10', 'chinese': 61, 'english': 55, 'math': 60, 'history': 93, 'health': 100}, {'name': 'student11', 'chinese': 72, 'english': 79, 'math': 61, 'history': 50, 'health': 77}, {'name': 'student12', 'chinese': 69, 'english': 56, 'math': 50, 'history': 57, 'health': 60}, {'name': 'student13', 'chinese': 60, 'english': 92, 'math': 78, 'history': 77, 'health': 64}, {'name': 'student14', 'chinese': 74, 'english': 85, 'math': 94, 'history': 63, 'health': 70}, {'name': 'student15', 'chinese': 55, 'english': 51, 'math': 79, 'history': 90, 'health': 71}, {'name': 'student16', 'chinese': 97, 'english': 97, 'math': 86, 'history': 100, 'health': 86}, {'name': 'student17', 'chinese': 92, 'english': 69, 'math': 92, 'history': 70, 'health': 66}, {'name': 'student18', 'chinese': 78, 'english': 61, 'math': 89, 'history': 57, 'health': 70}, {'name': 'student19', 'chinese': 93, 'english': 60, 'math': 55, 'history': 55, 'health': 67}, {'name': 'student20', 'chinese': 97, 'english': 63, 'math': 91, 'history': 94, 'health': 51}, {'name': 'student21', 'chinese': 72, 'english': 63, 'math': 94, 'history': 93, 'health': 89}, {'name': 'student22', 'chinese': 78, 'english': 82, 'math': 61, 'history': 91, 'health': 96}, {'name': 'student23', 'chinese': 59, 'english': 54, 'math': 92, 'history': 87, 'health': 84}, {'name': 'student24', 'chinese': 94, 'english': 73, 'math': 68, 'history': 80, 'health': 88}, {'name': 'student25', 'chinese': 58, 'english': 58, 'math': 73, 'history': 64, 'health': 81}, {'name': 'student26', 'chinese': 90, 'english': 82, 'math': 74, 'history': 77, 'health': 94}, {'name': 'student27', 'chinese': 79, 'english': 95, 'math': 63, 'history': 57, 'health': 95}, {'name': 'student28', 'chinese': 70, 'english': 74, 'math': 78, 'history': 94, 'health': 74}, {'name': 'student29', 'chinese': 58, 'english': 87, 'math': 76, 'history': 75, 'health': 85}, {'name': 'student30', 'chinese': 96, 'english': 52, 'math': 82, 'history': 50, 'health': 74}, {'name': 'student31', 'chinese': 77, 'english': 80, 'math': 65, 'history': 80, 'health': 90}, {'name': 'student32', 'chinese': 84, 'english': 76, 'math': 89, 'history': 83, 'health': 66}, {'name': 'student33', 'chinese': 60, 'english': 58, 'math': 86, 'history': 57, 'health': 78}, {'name': 'student34', 'chinese': 77, 'english': 65, 'math': 85, 'history': 58, 'health': 59}, {'name': 'student35', 'chinese': 54, 'english': 58, 'math': 74, 'history': 62, 'health': 80}, {'name': 'student36', 'chinese': 55, 'english': 98, 'math': 82, 'history': 57, 'health': 50}, {'name': 'student37', 'chinese': 96, 'english': 84, 'math': 72, 'history': 68, 'health': 96}, {'name': 'student38', 'chinese': 87, 'english': 85, 'math': 92, 'history': 69, 'health': 93}, {'name': 'student39', 'chinese': 64, 'english': 84, 'math': 54, 'history': 99, 'health': 76}, {'name': 'student40', 'chinese': 61, 'english': 58, 'math': 92, 'history': 53, 'health': 100}, {'name': 'student41', 'chinese': 58, 'english': 89, 'math': 96, 'history': 75, 'health': 67}, {'name': 'student42', 'chinese': 69, 'english': 61, 'math': 78, 'history': 100, 'health': 81}, {'name': 'student43', 'chinese': 100, 'english': 83, 'math': 79, 'history': 98, 'health': 78}, {'name': 'student44', 'chinese': 55, 'english': 61, 'math': 82, 'history': 65, 'health': 86}, {'name': 'student45', 'chinese': 52, 'english': 78, 'math': 82, 'history': 87, 'health': 51}, {'name': 'student46', 'chinese': 81, 'english': 61, 'math': 79, 'history': 97, 'health': 80}, {'name': 'student47', 'chinese': 50, 'english': 78, 'math': 52, 'history': 83, 'health': 87}, {'name': 'student48', 'chinese': 87, 'english': 99, 'math': 94, 'history': 60, 'health': 63}, {'name': 'student49', 'chinese': 56, 'english': 87, 'math': 51, 'history': 72, 'health': 95}, {'name': 'student50', 'chinese': 99, 'english': 81, 'math': 84, 'history': 82, 'health': 91}]\""
      ]
     },
     "execution_count": 9,
     "metadata": {},
     "output_type": "execute_result"
    }
   ],
   "source": [
    "import random\n",
    "students = []\n",
    "for i in range(1,51):\n",
    "    students.append(\n",
    "        {\n",
    "            'name':f'student{i}',\n",
    "            'chinese':random.randint(50,100),\n",
    "            'english':random.randint(50,100),\n",
    "            'math':random.randint(50,100),\n",
    "            'history':random.randint(50,100),\n",
    "            'health':random.randint(50,100)\n",
    "        }\n",
    "    )\n",
    "students_str = str(students)\n",
    "students_str"
   ]
  },
  {
   "cell_type": "code",
   "execution_count": 15,
   "metadata": {},
   "outputs": [
    {
     "data": {
      "text/plain": [
       "'姓名:student1, 國文:96, 英文:84, 數學:63, 歷史:95, 健康:68\\n姓名:student2, 國文:79, 英文:93, 數學:80, 歷史:66, 健康:57\\n姓名:student3, 國文:58, 英文:91, 數學:58, 歷史:96, 健康:61\\n姓名:student4, 國文:71, 英文:98, 數學:54, 歷史:54, 健康:64\\n姓名:student5, 國文:52, 英文:81, 數學:72, 歷史:75, 健康:96\\n姓名:student6, 國文:96, 英文:84, 數學:66, 歷史:67, 健康:76\\n姓名:student7, 國文:84, 英文:80, 數學:68, 歷史:66, 健康:91\\n姓名:student8, 國文:88, 英文:60, 數學:97, 歷史:75, 健康:70\\n姓名:student9, 國文:53, 英文:88, 數學:77, 歷史:90, 健康:85\\n姓名:student10, 國文:61, 英文:55, 數學:60, 歷史:93, 健康:100\\n姓名:student11, 國文:72, 英文:79, 數學:61, 歷史:50, 健康:77\\n姓名:student12, 國文:69, 英文:56, 數學:50, 歷史:57, 健康:60\\n姓名:student13, 國文:60, 英文:92, 數學:78, 歷史:77, 健康:64\\n姓名:student14, 國文:74, 英文:85, 數學:94, 歷史:63, 健康:70\\n姓名:student15, 國文:55, 英文:51, 數學:79, 歷史:90, 健康:71\\n姓名:student16, 國文:97, 英文:97, 數學:86, 歷史:100, 健康:86\\n姓名:student17, 國文:92, 英文:69, 數學:92, 歷史:70, 健康:66\\n姓名:student18, 國文:78, 英文:61, 數學:89, 歷史:57, 健康:70\\n姓名:student19, 國文:93, 英文:60, 數學:55, 歷史:55, 健康:67\\n姓名:student20, 國文:97, 英文:63, 數學:91, 歷史:94, 健康:51\\n姓名:student21, 國文:72, 英文:63, 數學:94, 歷史:93, 健康:89\\n姓名:student22, 國文:78, 英文:82, 數學:61, 歷史:91, 健康:96\\n姓名:student23, 國文:59, 英文:54, 數學:92, 歷史:87, 健康:84\\n姓名:student24, 國文:94, 英文:73, 數學:68, 歷史:80, 健康:88\\n姓名:student25, 國文:58, 英文:58, 數學:73, 歷史:64, 健康:81\\n姓名:student26, 國文:90, 英文:82, 數學:74, 歷史:77, 健康:94\\n姓名:student27, 國文:79, 英文:95, 數學:63, 歷史:57, 健康:95\\n姓名:student28, 國文:70, 英文:74, 數學:78, 歷史:94, 健康:74\\n姓名:student29, 國文:58, 英文:87, 數學:76, 歷史:75, 健康:85\\n姓名:student30, 國文:96, 英文:52, 數學:82, 歷史:50, 健康:74\\n姓名:student31, 國文:77, 英文:80, 數學:65, 歷史:80, 健康:90\\n姓名:student32, 國文:84, 英文:76, 數學:89, 歷史:83, 健康:66\\n姓名:student33, 國文:60, 英文:58, 數學:86, 歷史:57, 健康:78\\n姓名:student34, 國文:77, 英文:65, 數學:85, 歷史:58, 健康:59\\n姓名:student35, 國文:54, 英文:58, 數學:74, 歷史:62, 健康:80\\n姓名:student36, 國文:55, 英文:98, 數學:82, 歷史:57, 健康:50\\n姓名:student37, 國文:96, 英文:84, 數學:72, 歷史:68, 健康:96\\n姓名:student38, 國文:87, 英文:85, 數學:92, 歷史:69, 健康:93\\n姓名:student39, 國文:64, 英文:84, 數學:54, 歷史:99, 健康:76\\n姓名:student40, 國文:61, 英文:58, 數學:92, 歷史:53, 健康:100\\n姓名:student41, 國文:58, 英文:89, 數學:96, 歷史:75, 健康:67\\n姓名:student42, 國文:69, 英文:61, 數學:78, 歷史:100, 健康:81\\n姓名:student43, 國文:100, 英文:83, 數學:79, 歷史:98, 健康:78\\n姓名:student44, 國文:55, 英文:61, 數學:82, 歷史:65, 健康:86\\n姓名:student45, 國文:52, 英文:78, 數學:82, 歷史:87, 健康:51\\n姓名:student46, 國文:81, 英文:61, 數學:79, 歷史:97, 健康:80\\n姓名:student47, 國文:50, 英文:78, 數學:52, 歷史:83, 健康:87\\n姓名:student48, 國文:87, 英文:99, 數學:94, 歷史:60, 健康:63\\n姓名:student49, 國文:56, 英文:87, 數學:51, 歷史:72, 健康:95\\n姓名:student50, 國文:99, 英文:81, 數學:84, 歷史:82, 健康:91'"
      ]
     },
     "execution_count": 15,
     "metadata": {},
     "output_type": "execute_result"
    }
   ],
   "source": [
    "# 將 students 列表轉換為字串\n",
    "students_str = '\\n'.join([\n",
    "    f\"姓名:{student['name']}, \"\n",
    "    f\"國文:{student['chinese']}, \"\n",
    "    f\"英文:{student['english']}, \"\n",
    "    f\"數學:{student['math']}, \"\n",
    "    f\"歷史:{student['history']}, \"\n",
    "    f\"健康:{student['health']}\"\n",
    "    for student in students\n",
    "])\n",
    "\n",
    "students_str"
   ]
  },
  {
   "cell_type": "code",
   "execution_count": 16,
   "metadata": {},
   "outputs": [],
   "source": [
    "# print(students_str, file=open('students.txt', mode='w', encoding='utf-8'))"
   ]
  }
 ],
 "metadata": {
  "kernelspec": {
   "display_name": "base",
   "language": "python",
   "name": "python3"
  },
  "language_info": {
   "codemirror_mode": {
    "name": "ipython",
    "version": 3
   },
   "file_extension": ".py",
   "mimetype": "text/x-python",
   "name": "python",
   "nbconvert_exporter": "python",
   "pygments_lexer": "ipython3",
   "version": "3.12.3"
  }
 },
 "nbformat": 4,
 "nbformat_minor": 2
}
