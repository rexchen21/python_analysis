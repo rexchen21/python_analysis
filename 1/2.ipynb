{
 "cells": [
  {
   "cell_type": "code",
   "execution_count": 1,
   "metadata": {},
   "outputs": [
    {
     "name": "stdout",
     "output_type": "stream",
     "text": [
      "請輸入有效的分鐘數\n"
     ]
    }
   ],
   "source": [
    "import os\n",
    "import time\n",
    "\n",
    "def shutdown(minutes):\n",
    "    seconds = minutes * 60\n",
    "    command = f'shutdown /s /t {seconds}'\n",
    "    \n",
    "    print(f'系統將在 {minutes} 分鐘後關機')\n",
    "    print('如要取消關機，請按 Ctrl+C')\n",
    "    \n",
    "    try:\n",
    "        os.system(command)\n",
    "        # 倒數計時\n",
    "        while seconds > 0:\n",
    "            minutes_left = seconds // 60\n",
    "            seconds_left = seconds % 60\n",
    "            print(f'\\r剩餘時間: {minutes_left:02d}:{seconds_left:02d}', end='')\n",
    "            time.sleep(1)\n",
    "            seconds -= 1\n",
    "            \n",
    "    except KeyboardInterrupt:\n",
    "        # 取消關機\n",
    "        os.system('shutdown /a')\n",
    "        print('\\n已取消關機')\n",
    "\n",
    "if __name__ == '__main__':\n",
    "    try:\n",
    "        minutes = int(input('請輸入幾分鐘後關機 (例如: 30): '))\n",
    "        shutdown(minutes)\n",
    "    except ValueError:\n",
    "        print('請輸入有效的分鐘數')"
   ]
  }
 ],
 "metadata": {
  "kernelspec": {
   "display_name": "base",
   "language": "python",
   "name": "python3"
  },
  "language_info": {
   "codemirror_mode": {
    "name": "ipython",
    "version": 3
   },
   "file_extension": ".py",
   "mimetype": "text/x-python",
   "name": "python",
   "nbconvert_exporter": "python",
   "pygments_lexer": "ipython3",
   "version": "3.12.3"
  }
 },
 "nbformat": 4,
 "nbformat_minor": 2
}
