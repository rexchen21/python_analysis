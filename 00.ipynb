{
 "cells": [
  {
   "cell_type": "code",
   "execution_count": null,
   "metadata": {},
   "outputs": [],
   "source": [
    "import requests\n",
    "from requests import Response\n",
    "url = 'https://rate.bot.com.tw/xrt?Lang=zh-TW'\n",
    "response = requests.get(url)\n",
    "print(response.text)"
   ]
  },
  {
   "cell_type": "code",
   "execution_count": 4,
   "metadata": {},
   "outputs": [
    {
     "name": "stdout",
     "output_type": "stream",
     "text": [
      "[{'幣別': '美金 (USD)', '現金買入': '32.42', '現金賣出': '33.09'},\n",
      " {'幣別': '港幣 (HKD)', '現金買入': '4.064', '現金賣出': '4.268'},\n",
      " {'幣別': '英鎊 (GBP)', '現金買入': '40.1', '現金賣出': '42.22'},\n",
      " {'幣別': '澳幣 (AUD)', '現金買入': '19.99', '現金賣出': '20.77'},\n",
      " {'幣別': '加拿大幣 (CAD)', '現金買入': '22.2', '現金賣出': '23.11'},\n",
      " {'幣別': '新加坡幣 (SGD)', '現金買入': '23.72', '現金賣出': '24.63'},\n",
      " {'幣別': '瑞士法郎 (CHF)', '現金買入': '35.52', '現金賣出': '36.72'},\n",
      " {'幣別': '日圓 (JPY)', '現金買入': '0.2087', '現金賣出': '0.2215'},\n",
      " {'幣別': '南非幣 (ZAR)', '現金買入': '-', '現金賣出': '-'},\n",
      " {'幣別': '瑞典幣 (SEK)', '現金買入': '-', '現金賣出': '-'},\n",
      " {'幣別': '紐元 (NZD)', '現金買入': '17.91', '現金賣出': '18.76'},\n",
      " {'幣別': '泰幣 (THB)', '現金買入': '0.8298', '現金賣出': '1.0198'},\n",
      " {'幣別': '菲國比索 (PHP)', '現金買入': '0.5004', '現金賣出': '0.6324'},\n",
      " {'幣別': '印尼幣 (IDR)', '現金買入': '0.00158', '現金賣出': '0.00228'},\n",
      " {'幣別': '歐元 (EUR)', '現金買入': '33.25', '現金賣出': '34.59'},\n",
      " {'幣別': '韓元 (KRW)', '現金買入': '0.02072', '現金賣出': '0.02462'},\n",
      " {'幣別': '越南盾 (VND)', '現金買入': '0.00104', '現金賣出': '0.00145'},\n",
      " {'幣別': '馬來幣 (MYR)', '現金買入': '6.329', '現金賣出': '7.854'},\n",
      " {'幣別': '人民幣 (CNY)', '現金買入': '4.404', '現金賣出': '4.566'}]\n"
     ]
    }
   ],
   "source": [
    "from bs4 import BeautifulSoup\n",
    "from pprint import pprint\n",
    "soup = BeautifulSoup(response.text, 'html.parser')\n",
    "\n",
    "# 尋找帶有特定 title 屬性的表格\n",
    "rate_table = soup.find('table', {'title': '牌告匯率'})\n",
    "\n",
    "# 取得所有幣別和現金匯率資料\n",
    "currency_rows = rate_table.tbody.find_all('tr') \n",
    "\n",
    "rates:list[dict] = []\n",
    "\n",
    "for row in currency_rows:\n",
    "    currency_dict = {}\n",
    "    # 取行中的幣別資料\n",
    "    currency = row.find(\"td\", attrs={\"data-table\": \"幣別\"}).find(\"div\", class_=\"visible-phone\").text.strip()\n",
    "    currency_dict[\"幣別\"] = currency\n",
    "\n",
    "    # 取得即期買入匯率\n",
    "    currency_get = row.find(\"td\", attrs={\"data-table\": \"本行現金買入\"}).text.strip()\n",
    "    currency_dict[\"現金買入\"] = currency_get\n",
    "\n",
    "    # 取得即期賣出匯率\n",
    "    currency_send = row.find(\"td\", attrs={\"data-table\": \"本行現金賣出\"}).text.strip()\n",
    "    currency_dict[\"現金賣出\"] = currency_send\n",
    "\n",
    "    #print(f\"幣別: {currency}, 現金買入: {currency_get}, 現金賣出: {currency_send}\")\n",
    "    #print(\"-\" * 60)\n",
    "    rates.append(currency_dict)\n",
    "\n",
    "pprint(rates)"
   ]
  }
 ],
 "metadata": {
  "kernelspec": {
   "display_name": "base",
   "language": "python",
   "name": "python3"
  },
  "language_info": {
   "codemirror_mode": {
    "name": "ipython",
    "version": 3
   },
   "file_extension": ".py",
   "mimetype": "text/x-python",
   "name": "python",
   "nbconvert_exporter": "python",
   "pygments_lexer": "ipython3",
   "version": "3.12.7"
  }
 },
 "nbformat": 4,
 "nbformat_minor": 2
}
