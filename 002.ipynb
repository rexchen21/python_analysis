{
 "cells": [
  {
   "cell_type": "code",
   "execution_count": null,
   "metadata": {},
   "outputs": [
    {
     "name": "stdout",
     "output_type": "stream",
     "text": [
      "<title>台灣水庫即時水情</title>\n"
     ]
    }
   ],
   "source": [
    "import requests\n",
    "from bs4 import BeautifulSoup\n",
    "\n",
    "url = 'https://water.taiwanstat.com/'\n",
    "web = requests.get(url)\n",
    "# print(web.text)\n",
    "soup = BeautifulSoup(web.text, \"html.parser\")\n",
    "title = soup.title\n",
    "print(title)"
   ]
  },
  {
   "cell_type": "code",
   "execution_count": null,
   "metadata": {},
   "outputs": [],
   "source": [
    "import requests\n",
    "from bs4 import BeautifulSoup\n",
    "\n",
    "url = 'https://www.iana.org/domains/'\n",
    "web = requests.get(url)\n",
    "soup = BeautifulSoup(web.text, \"html.parser\")\n",
    "\n",
    "print(soup.select('#logo'))\n",
    "print('\\n-----\\n')\n",
    "\n",
    "print(soup.find_all('div',id=\"logo\"))\n",
    "print('\\n-----\\n')\n",
    "\n",
    "divs = soup.find_all('div')\n",
    "print(divs[1])\n",
    "print('\\n-----\\n')\n",
    "\n",
    "print(divs[1].find_parent().find_all('li'))"
   ]
  },
  {
   "cell_type": "code",
   "execution_count": 36,
   "metadata": {},
   "outputs": [
    {
     "name": "stdout",
     "output_type": "stream",
     "text": [
      "[<div class=\"reservoir\"><div class=\"name\"><h3>新山水庫(基隆)</h3></div> <svg height=\"250\" id=\"reservoir0\" width=\"100%\"></svg><div class=\"volumn\"><h5>7001.1萬立方公尺</h5></div><div class=\"state\"><h5>萬立方公尺</h5></div><div class=\"updateAt\">更新時間：0000-00-00 (0時)</div></div>, <div class=\"reservoir\"><div class=\"name\"><h3>翡翠水庫(台北、新北)</h3></div> <svg height=\"250\" id=\"reservoir1\" width=\"100%\"></svg><div class=\"volumn\"><h5>26722.51萬立方公尺</h5></div><div class=\"state\"><h5>萬立方公尺</h5></div><div class=\"updateAt\">更新時間：0000-00-00 (0時)</div></div>, <div class=\"reservoir\"><div class=\"name\"><h3>石門水庫(新北、桃園、新竹)</h3></div> <svg height=\"250\" id=\"reservoir2\" width=\"100%\"></svg><div class=\"volumn\"><h5>4025.63萬立方公尺</h5></div><div class=\"state\"><h5>萬立方公尺</h5></div><div class=\"updateAt\">更新時間：0000-00-00 (0時)</div></div>, <div class=\"reservoir\"><div class=\"name\"><h3>永和山水庫(新竹、苗栗)</h3></div> <svg height=\"250\" id=\"reservoir3\" width=\"100%\"></svg><div class=\"volumn\"><h5>685.598萬立方公尺</h5></div><div class=\"state\"><h5>萬立方公尺</h5></div><div class=\"updateAt\">更新時間：0000-00-00 (0時)</div></div>, <div class=\"reservoir\"><div class=\"name\"><h3>寶山水庫(新竹)</h3></div> <svg height=\"250\" id=\"reservoir20\" width=\"100%\"></svg><div class=\"volumn\"><h5>7001.1萬立方公尺</h5></div><div class=\"state\"><h5>萬立方公尺</h5></div><div class=\"updateAt\">更新時間：0000-00-00 (0時)</div></div>, <div class=\"reservoir\"><div class=\"name\"><h3>寶山第二水庫(新竹)</h3></div> <svg height=\"250\" id=\"reservoir4\" width=\"100%\"></svg><div class=\"volumn\"><h5>7001.1萬立方公尺</h5></div><div class=\"state\"><h5>萬立方公尺</h5></div><div class=\"updateAt\">更新時間：0000-00-00 (0時)</div></div>, <div class=\"reservoir\"><div class=\"name\"><h3>明德水庫(苗栗)</h3></div> <svg height=\"250\" id=\"reservoir5\" width=\"100%\"></svg><div class=\"volumn\"><h5>262.0316萬立方公尺</h5></div><div class=\"state\"><h5>萬立方公尺</h5></div><div class=\"updateAt\">更新時間：0000-00-00 (0時)</div></div>, <div class=\"reservoir\"><div class=\"name\"><h3>鯉魚潭水庫(苗栗、台中)</h3></div> <svg height=\"250\" id=\"reservoir6\" width=\"100%\"></svg><div class=\"volumn\"><h5>9857.34萬立方公尺</h5></div><div class=\"state\"><h5>萬立方公尺</h5></div><div class=\"updateAt\">更新時間：0000-00-00 (0時)</div></div>, <div class=\"reservoir\"><div class=\"name\"><h3>德基水庫(台中)</h3></div> <svg height=\"250\" id=\"reservoir7\" width=\"100%\"></svg><div class=\"volumn\"><h5>762.27萬立方公尺</h5></div><div class=\"state\"><h5>萬立方公尺</h5></div><div class=\"updateAt\">更新時間：0000-00-00 (0時)</div></div>, <div class=\"reservoir\"><div class=\"name\"><h3>石岡壩(台中)</h3></div> <svg height=\"250\" id=\"reservoir8\" width=\"100%\"></svg><div class=\"volumn\"><h5>11486萬立方公尺</h5></div><div class=\"state\"><h5>萬立方公尺</h5></div><div class=\"updateAt\">更新時間：0000-00-00 (0時)</div></div>, <div class=\"reservoir\"><div class=\"name\"><h3>日月潭水庫(南投)</h3></div> <svg height=\"250\" id=\"reservoir9\" width=\"100%\"></svg><div class=\"volumn\"><h5>5741萬立方公尺</h5></div><div class=\"state\"><h5>萬立方公尺</h5></div><div class=\"updateAt\">更新時間：0000-00-00 (0時)</div></div>, <div class=\"reservoir\"><div class=\"name\"><h3>霧社水庫(南投)</h3></div> <svg height=\"250\" id=\"reservoir10\" width=\"100%\"></svg><div class=\"volumn\"><h5>3269.4萬立方公尺</h5></div><div class=\"state\"><h5>萬立方公尺</h5></div><div class=\"updateAt\">更新時間：0000-00-00 (0時)</div></div>, <div class=\"reservoir\"><div class=\"name\"><h3>湖山水庫(雲林、彰化、嘉義)</h3></div> <svg height=\"250\" id=\"reservoir19\" width=\"100%\"></svg><div class=\"volumn\"><h5>820.884613萬立方公尺</h5></div><div class=\"state\"><h5>萬立方公尺</h5></div><div class=\"updateAt\">更新時間：0000-00-00 (0時)</div></div>, <div class=\"reservoir\"><div class=\"name\"><h3>仁義潭水庫(嘉義)</h3></div> <svg height=\"250\" id=\"reservoir12\" width=\"100%\"></svg><div class=\"volumn\"><h5>820.884613萬立方公尺</h5></div><div class=\"state\"><h5>萬立方公尺</h5></div><div class=\"updateAt\">更新時間：0000-00-00 (0時)</div></div>, <div class=\"reservoir\"><div class=\"name\"><h3>蘭潭水庫(嘉義)</h3></div> <svg height=\"250\" id=\"reservoir21\" width=\"100%\"></svg><div class=\"volumn\"><h5>1086.97萬立方公尺</h5></div><div class=\"state\"><h5>萬立方公尺</h5></div><div class=\"updateAt\">更新時間：0000-00-00 (0時)</div></div>, <div class=\"reservoir\"><div class=\"name\"><h3>白河水庫(台南)</h3></div> <svg height=\"250\" id=\"reservoir13\" width=\"100%\"></svg><div class=\"volumn\"><h5>1086.97萬立方公尺</h5></div><div class=\"state\"><h5>萬立方公尺</h5></div><div class=\"updateAt\">更新時間：0000-00-00 (0時)</div></div>, <div class=\"reservoir\"><div class=\"name\"><h3>曾文水庫(嘉義、台南)</h3></div> <svg height=\"250\" id=\"reservoir14\" width=\"100%\"></svg><div class=\"volumn\"><h5>1086.97萬立方公尺</h5></div><div class=\"state\"><h5>萬立方公尺</h5></div><div class=\"updateAt\">更新時間：0000-00-00 (0時)</div></div>, <div class=\"reservoir\"><div class=\"name\"><h3>烏山頭水庫(台南)</h3></div> <svg height=\"250\" id=\"reservoir15\" width=\"100%\"></svg><div class=\"volumn\"><h5>1086.97萬立方公尺</h5></div><div class=\"state\"><h5>萬立方公尺</h5></div><div class=\"updateAt\">更新時間：0000-00-00 (0時)</div></div>, <div class=\"reservoir\"><div class=\"name\"><h3>南化水庫(台南、高雄)</h3></div> <svg height=\"250\" id=\"reservoir16\" width=\"100%\"></svg><div class=\"volumn\"><h5>1086.97萬立方公尺</h5></div><div class=\"state\"><h5>萬立方公尺</h5></div><div class=\"updateAt\">更新時間：0000-00-00 (0時)</div></div>, <div class=\"reservoir\"><div class=\"name\"><h3>阿公店水庫(高雄)</h3></div> <svg height=\"250\" id=\"reservoir17\" width=\"100%\"></svg><div class=\"volumn\"><h5>1086.97萬立方公尺</h5></div><div class=\"state\"><h5>萬立方公尺</h5></div><div class=\"updateAt\">更新時間：0000-00-00 (0時)</div></div>, <div class=\"reservoir\"><div class=\"name\"><h3>牡丹水庫(屏東)</h3></div> <svg height=\"250\" id=\"reservoir18\" width=\"100%\"></svg><div class=\"volumn\"><h5>1086.97萬立方公尺</h5></div><div class=\"state\"><h5>萬立方公尺</h5></div><div class=\"updateAt\">更新時間：0000-00-00 (0時)</div></div>]\n",
      "\n",
      "-----\n",
      "\n"
     ]
    }
   ],
   "source": [
    "import requests\n",
    "from bs4 import BeautifulSoup\n",
    "\n",
    "url = 'https://water.taiwanstat.com/'\n",
    "web =  requests.get(url)\n",
    "soup = BeautifulSoup(web.text, 'html.parser')\n",
    "reservoir = soup.select('.reservoir')\n",
    "print(reservoir)\n",
    "print('\\n-----\\n')\n",
    "\n",
    "# for i in reservoir:\n",
    "#     print(i.find('div',class_='name').get_text(),end=' ')\n",
    "#     print(i.find('h5').get_text(),end=\" \")\n",
    "#     print()\n"
   ]
  }
 ],
 "metadata": {
  "kernelspec": {
   "display_name": "base",
   "language": "python",
   "name": "python3"
  },
  "language_info": {
   "codemirror_mode": {
    "name": "ipython",
    "version": 3
   },
   "file_extension": ".py",
   "mimetype": "text/x-python",
   "name": "python",
   "nbconvert_exporter": "python",
   "pygments_lexer": "ipython3",
   "version": "3.12.7"
  }
 },
 "nbformat": 4,
 "nbformat_minor": 2
}
