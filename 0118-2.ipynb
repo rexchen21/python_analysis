{
 "cells": [
  {
   "cell_type": "code",
   "execution_count": 13,
   "metadata": {},
   "outputs": [
    {
     "data": {
      "text/plain": [
       "2"
      ]
     },
     "execution_count": 13,
     "metadata": {},
     "output_type": "execute_result"
    }
   ],
   "source": [
    "empty_list = []\n",
    "empty_list.append(67)\n",
    "empty_list.append(96)\n",
    "empty_list\n",
    "len(empty_list)"
   ]
  },
  {
   "cell_type": "code",
   "execution_count": 14,
   "metadata": {},
   "outputs": [
    {
     "data": {
      "text/plain": [
       "{'name': 'RexChen', 'age': 51, 'city': 'Taipei'}"
      ]
     },
     "execution_count": 14,
     "metadata": {},
     "output_type": "execute_result"
    }
   ],
   "source": [
    "P1 = {'name':'RexChen',\n",
    "'age':51,\n",
    "'city':'Taipei'}\n",
    "P1"
   ]
  },
  {
   "cell_type": "code",
   "execution_count": 15,
   "metadata": {},
   "outputs": [
    {
     "name": "stdout",
     "output_type": "stream",
     "text": [
      "RexChen\n",
      "51\n"
     ]
    }
   ],
   "source": [
    "print(P1['name'])\n",
    "print(P1['age'])"
   ]
  },
  {
   "cell_type": "code",
   "execution_count": 16,
   "metadata": {},
   "outputs": [
    {
     "data": {
      "text/plain": [
       "{'name': 'RexChen', 'age': 51, 'city': 'Taipei'}"
      ]
     },
     "execution_count": 16,
     "metadata": {},
     "output_type": "execute_result"
    }
   ],
   "source": [
    "P1"
   ]
  },
  {
   "cell_type": "code",
   "execution_count": 17,
   "metadata": {},
   "outputs": [],
   "source": [
    "del P1['name']"
   ]
  },
  {
   "cell_type": "code",
   "execution_count": 18,
   "metadata": {},
   "outputs": [
    {
     "data": {
      "text/plain": [
       "{'age': 51, 'city': 'Taipei'}"
      ]
     },
     "execution_count": 18,
     "metadata": {},
     "output_type": "execute_result"
    }
   ],
   "source": [
    "P1"
   ]
  },
  {
   "cell_type": "code",
   "execution_count": 19,
   "metadata": {},
   "outputs": [
    {
     "name": "stdout",
     "output_type": "stream",
     "text": [
      "0→蘋果\n",
      "_____________\n",
      "1→香蕉\n",
      "_____________\n",
      "2→橘子\n",
      "_____________\n"
     ]
    }
   ],
   "source": [
    "fruits = ['蘋果', '香蕉', '橘子']\n",
    "for index,fruit in enumerate(fruits):\n",
    "    print(index,fruit,sep='→')\n",
    "    print(\"_____________\")"
   ]
  },
  {
   "cell_type": "code",
   "execution_count": 20,
   "metadata": {},
   "outputs": [
    {
     "name": "stdout",
     "output_type": "stream",
     "text": [
      "Taipei: 台北\n",
      "Taipei:台北\n",
      "New Taipei: 新北市\n",
      "New Taipei:新北市\n",
      "Taoyuan: 桃園\n",
      "Taoyuan:桃園\n",
      "Taichung: 台中\n",
      "Taichung:台中\n",
      "Tainan: 台南\n",
      "Tainan:台南\n",
      "Kaohsiung: 高雄\n",
      "Kaohsiung:高雄\n",
      "Keelung: 基隆\n",
      "Keelung:基隆\n",
      "Hsinchu: 新竹\n",
      "Hsinchu:新竹\n",
      "Chiayi: 嘉義\n",
      "Chiayi:嘉義\n",
      "Hualien: 花蓮\n",
      "Hualien:花蓮\n"
     ]
    }
   ],
   "source": [
    "cities = {\n",
    "    'Taipei': '台北',\n",
    "    'New Taipei': '新北市',\n",
    "    'Taoyuan': '桃園',\n",
    "    'Taichung': '台中',\n",
    "    'Tainan': '台南',\n",
    "    'Kaohsiung': '高雄',\n",
    "    'Keelung': '基隆',\n",
    "    'Hsinchu': '新竹',\n",
    "    'Chiayi': '嘉義',\n",
    "    'Hualien': '花蓮'\n",
    "}\n",
    "for key, value in cities.items():\n",
    "    print(f\"{key}: {value}\")\n",
    "    print(f\"{key}:{value}\")"
   ]
  },
  {
   "cell_type": "code",
   "execution_count": 21,
   "metadata": {},
   "outputs": [
    {
     "data": {
      "text/plain": [
       "[{'name': 'student1'},\n",
       " {'name': 'student1'},\n",
       " {'name': 'student1'},\n",
       " {'name': 'student1'},\n",
       " {'name': 'student1'},\n",
       " {'name': 'student1'},\n",
       " {'name': 'student1'},\n",
       " {'name': 'student1'},\n",
       " {'name': 'student1'},\n",
       " {'name': 'student1'},\n",
       " {'name': 'student1'},\n",
       " {'name': 'student1'},\n",
       " {'name': 'student1'},\n",
       " {'name': 'student1'},\n",
       " {'name': 'student1'},\n",
       " {'name': 'student1'},\n",
       " {'name': 'student1'},\n",
       " {'name': 'student1'},\n",
       " {'name': 'student1'},\n",
       " {'name': 'student1'},\n",
       " {'name': 'student1'},\n",
       " {'name': 'student1'},\n",
       " {'name': 'student1'},\n",
       " {'name': 'student1'},\n",
       " {'name': 'student1'},\n",
       " {'name': 'student1'},\n",
       " {'name': 'student1'},\n",
       " {'name': 'student1'},\n",
       " {'name': 'student1'},\n",
       " {'name': 'student1'},\n",
       " {'name': 'student1'},\n",
       " {'name': 'student1'},\n",
       " {'name': 'student1'},\n",
       " {'name': 'student1'},\n",
       " {'name': 'student1'},\n",
       " {'name': 'student1'},\n",
       " {'name': 'student1'},\n",
       " {'name': 'student1'},\n",
       " {'name': 'student1'},\n",
       " {'name': 'student1'},\n",
       " {'name': 'student1'},\n",
       " {'name': 'student1'},\n",
       " {'name': 'student1'},\n",
       " {'name': 'student1'},\n",
       " {'name': 'student1'},\n",
       " {'name': 'student1'},\n",
       " {'name': 'student1'},\n",
       " {'name': 'student1'},\n",
       " {'name': 'student1'},\n",
       " {'name': 'student1'}]"
      ]
     },
     "execution_count": 21,
     "metadata": {},
     "output_type": "execute_result"
    }
   ],
   "source": [
    "students = []\n",
    "for i in range(1,51):\n",
    "    students.append(\n",
    "        {\n",
    "            'name':f'student{1}'\n",
    "        }\n",
    "    )\n",
    "students\n"
   ]
  }
 ],
 "metadata": {
  "kernelspec": {
   "display_name": "base",
   "language": "python",
   "name": "python3"
  },
  "language_info": {
   "codemirror_mode": {
    "name": "ipython",
    "version": 3
   },
   "file_extension": ".py",
   "mimetype": "text/x-python",
   "name": "python",
   "nbconvert_exporter": "python",
   "pygments_lexer": "ipython3",
   "version": "3.12.3"
  }
 },
 "nbformat": 4,
 "nbformat_minor": 2
}
